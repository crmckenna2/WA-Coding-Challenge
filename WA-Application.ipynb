{
 "cells": [
  {
   "cell_type": "code",
   "execution_count": 1,
   "metadata": {},
   "outputs": [],
   "source": [
    "import numpy as np\n",
    "from PIL import Image, ImageDraw\n",
    "from sklearn.mixture import GaussianMixture\n",
    "from sklearn.linear_model import LinearRegression"
   ]
  },
  {
   "cell_type": "code",
   "execution_count": 2,
   "metadata": {},
   "outputs": [],
   "source": [
    "# Open the image\n",
    "png = Image.open(\"./red.png\")\n",
    "image = np.array(png)"
   ]
  },
  {
   "cell_type": "code",
   "execution_count": 3,
   "metadata": {},
   "outputs": [],
   "source": [
    "# Hyperparameters\n",
    "red_score = 2.25\n",
    "green_score = -3.\n",
    "blue_score = -3.\n",
    "\n",
    "orange_threshold = 185"
   ]
  },
  {
   "cell_type": "code",
   "execution_count": 4,
   "metadata": {},
   "outputs": [],
   "source": [
    "# Peform linear transformation on the image to assign an orange score to each pixel\n",
    "size = (image.shape[0], image.shape[1])\n",
    "r = np.ones(size) * red_score\n",
    "g = np.ones(size) * green_score\n",
    "b = np.ones(size) * blue_score\n",
    "\n",
    "transformation = np.dstack((r,g,b))\n",
    "transformation = np.multiply(image, transformation)\n",
    "\n",
    "orange_scores = np.sum(transformation, axis = -1)"
   ]
  },
  {
   "cell_type": "code",
   "execution_count": 5,
   "metadata": {},
   "outputs": [],
   "source": [
    "# Use the orange scores and treshold to determine which pixels are orange\n",
    "orange_image = (orange_scores > orange_threshold) * 1\n",
    "\n",
    "# Get the indicies of all of the orange pixels\n",
    "orange_pixels = np.nonzero(orange_image)\n",
    "orange_pixels = np.transpose(orange_pixels)"
   ]
  },
  {
   "cell_type": "code",
   "execution_count": 6,
   "metadata": {},
   "outputs": [],
   "source": [
    "# Use Gaussian Mixture algorithm to quickly classify orange pixels into two lines\n",
    "gm = GaussianMixture(n_components=2).fit(orange_pixels)\n",
    "labels = gm.predict(orange_pixels)"
   ]
  },
  {
   "cell_type": "code",
   "execution_count": 7,
   "metadata": {},
   "outputs": [],
   "source": [
    "# Seperate each line of pixels into two lists\n",
    "class1 = np.nonzero(labels)\n",
    "class1 = orange_pixels[class1]\n",
    "\n",
    "labels = np.abs(labels - 1)\n",
    "\n",
    "class2 = np.nonzero(labels)\n",
    "class2 = orange_pixels[class2]"
   ]
  },
  {
   "cell_type": "code",
   "execution_count": 8,
   "metadata": {},
   "outputs": [],
   "source": [
    "# Get equation of both lines using linear regression\n",
    "x = class1[:,0].reshape(-1,1)\n",
    "y = class1[:,1].reshape(-1,1)\n",
    "line1 = LinearRegression().fit(x,y)\n",
    "x = class2[:,0].reshape(-1,1)\n",
    "y = class2[:,1].reshape(-1,1)\n",
    "line2 = LinearRegression().fit(x,y)"
   ]
  },
  {
   "cell_type": "code",
   "execution_count": 9,
   "metadata": {},
   "outputs": [
    {
     "name": "stdout",
     "output_type": "stream",
     "text": [
      "First line: y = 0.45953360631204626x + 828.577653414413\n",
      "Second line: y = -0.4639343776083791x + 1025.9228626319796\n"
     ]
    }
   ],
   "source": [
    "print(f'First line: y = {line1.coef_[0,0]}x + {line1.intercept_[0]}')\n",
    "print(f'Second line: y = {line2.coef_[0,0]}x + {line2.intercept_[0]}')"
   ]
  },
  {
   "cell_type": "code",
   "execution_count": 10,
   "metadata": {},
   "outputs": [],
   "source": [
    "# Calculate where to start and finish drawing the the lines\n",
    "image_height = png.size[1]\n",
    "\n",
    "xIntercept1 = -line1.intercept_[0] / line1.coef_[0,0]\n",
    "xIntercept2 = -line2.intercept_[0] / line2.coef_[0,0]\n",
    "topIntercept1 = (image_height - line1.intercept_[0]) / line1.coef_[0,0]\n",
    "topIntercept2 = (image_height - line2.intercept_[0]) / line2.coef_[0,0]\n",
    "\n",
    "# Create the lines\n",
    "toDraw1 = ((0, xIntercept1), (image_height, topIntercept1))\n",
    "toDraw2 = ((0, xIntercept2), (image_height, topIntercept2))"
   ]
  },
  {
   "cell_type": "code",
   "execution_count": 11,
   "metadata": {},
   "outputs": [],
   "source": [
    "# Draw the lines to the png and save the results\n",
    "draw = ImageDraw.Draw(png)\n",
    "draw.line(toDraw1, fill='red', width=10)\n",
    "draw.line(toDraw2, fill='red', width=10)\n",
    "png.save('./answer.png')"
   ]
  }
 ],
 "metadata": {
  "kernelspec": {
   "display_name": "env_tensorflow",
   "language": "python",
   "name": "python3"
  },
  "language_info": {
   "codemirror_mode": {
    "name": "ipython",
    "version": 3
   },
   "file_extension": ".py",
   "mimetype": "text/x-python",
   "name": "python",
   "nbconvert_exporter": "python",
   "pygments_lexer": "ipython3",
   "version": "3.6.13"
  }
 },
 "nbformat": 4,
 "nbformat_minor": 2
}
